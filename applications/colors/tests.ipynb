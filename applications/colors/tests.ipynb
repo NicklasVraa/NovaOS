{
 "cells": [
  {
   "cell_type": "code",
   "execution_count": 1,
   "metadata": {},
   "outputs": [],
   "source": [
    "# Avoids having to reload kernel after local module change.\n",
    "%load_ext autoreload\n",
    "%autoreload 2"
   ]
  },
  {
   "cell_type": "code",
   "execution_count": 2,
   "metadata": {},
   "outputs": [],
   "source": [
    "import color_manager as cm"
   ]
  },
  {
   "cell_type": "code",
   "execution_count": 12,
   "metadata": {},
   "outputs": [
    {
     "name": "stdout",
     "output_type": "stream",
     "text": [
      "link_target: /home/nv/Projects/NovaOS/applications/colors/test_folder/obsidian.svg\n",
      "link_base: result_folder/sub_test_folder\n",
      "rel_target: ../../test_folder/obsidian.svg\n",
      "\n",
      "link_target: /home/nv/Projects/NovaOS/applications/colors/test_folder/sub_test_folder/firefox.svg\n",
      "link_base: result_folder/sub_test_folder/sub_sub_test_folder\n",
      "rel_target: ../../../test_folder/sub_test_folder/firefox.svg\n",
      "\n"
     ]
    }
   ],
   "source": [
    "cm.monotone_set(\"test_folder\", \"result_folder\", 0, 0.5)"
   ]
  },
  {
   "cell_type": "code",
   "execution_count": 4,
   "metadata": {},
   "outputs": [
    {
     "data": {
      "text/plain": [
       "['test_folder/sub_test_folder/firefox.svg',\n",
       " 'test_folder/obsidian.svg',\n",
       " 'test_folder/visual-studio-code.svg']"
      ]
     },
     "execution_count": 4,
     "metadata": {},
     "output_type": "execute_result"
    }
   ],
   "source": [
    "cm.get_paths(\"test_folder\", \".svg\")"
   ]
  }
 ],
 "metadata": {
  "kernelspec": {
   "display_name": "base",
   "language": "python",
   "name": "python3"
  },
  "language_info": {
   "codemirror_mode": {
    "name": "ipython",
    "version": 3
   },
   "file_extension": ".py",
   "mimetype": "text/x-python",
   "name": "python",
   "nbconvert_exporter": "python",
   "pygments_lexer": "ipython3",
   "version": "3.10.12"
  },
  "orig_nbformat": 4
 },
 "nbformat": 4,
 "nbformat_minor": 2
}
