{
 "cells": [
  {
   "attachments": {},
   "cell_type": "markdown",
   "metadata": {},
   "source": [
    "### Notes\n",
    "- I need to convert colors to grayscale intensities, then replace them with whatever predefined color is closest within the given palette (color quantization).\n",
    "\n",
    "- I should create a grayscale version of good icon set, then quantize it, and have that serve as the base. I can keep a folder of different icon bases, which would only serve to provide geometry.\n",
    "\n",
    "- I should rid the icon svg files of metadata.\n",
    "\n",
    "- Don't use xml.etree.ElementTree for finding colors in svg. Instead save the contents as a string and search it for \"fill:#XXXXXX\" using regex and store in a set to avoid repeat colors."
   ]
  },
  {
   "attachments": {},
   "cell_type": "markdown",
   "metadata": {},
   "source": [
    "### Functions"
   ]
  },
  {
   "cell_type": "code",
   "execution_count": 15,
   "metadata": {},
   "outputs": [],
   "source": [
    "import xml.etree.ElementTree as ET\n",
    "import yaml, os\n",
    "\n",
    "def replace_color(path, old, new):\n",
    "    \"\"\"Replaces hex strings representing colors in files.\"\"\"\n",
    "    with open(path, 'r') as file:\n",
    "        content = file.read()\n",
    "\n",
    "    modified = content.replace(\"fill:\" + old, new)\n",
    "\n",
    "    with open(path, 'w') as file:\n",
    "        file.write(modified)\n",
    "\n",
    "def load_palette(path):\n",
    "    \"\"\"Load a palette.yaml file.\"\"\"\n",
    "    with open(path, 'r') as file:\n",
    "        palette = yaml.safe_load(file)\n",
    "\n",
    "    return palette\n",
    "\n",
    "def extract_fill(style):\n",
    "    \"\"\"Extract fill from style attribute within svg elements.\"\"\"\n",
    "    properties = style.split(';')\n",
    "    for prop in properties:\n",
    "        key, value = prop.split(':')\n",
    "        if key.strip() == 'fill':\n",
    "            return value.strip()\n",
    "        \n",
    "def get_fill_colors(path):\n",
    "    \"\"\"Return a list of all fill colors within an svg.\"\"\"\n",
    "    tree = ET.parse(path)\n",
    "    root = tree.getroot()\n",
    "    fill_colors = set()\n",
    "\n",
    "    # Recursive function to traverse SVG elements.\n",
    "    def traverse_elements(element):\n",
    "        if 'fill' in element.attrib:\n",
    "            fill_color = element.attrib['fill']\n",
    "            if fill_color not in fill_colors:\n",
    "                fill_colors.add(fill_color)\n",
    "\n",
    "        if 'style' in element.attrib:\n",
    "            style = element.attrib['style']\n",
    "            fill_property = extract_fill(style)\n",
    "            if fill_property and fill_property not in fill_colors:\n",
    "                fill_colors.add(fill_property)\n",
    "\n",
    "        for child in element:\n",
    "            traverse_elements(child)\n",
    "\n",
    "    traverse_elements(root)\n",
    "    return list(fill_colors)\n",
    "\n",
    "def hex_color_to_grayscale(hex):\n",
    "    \"\"\"Convert a hexadecimal color to a grayscale equivalent.\"\"\"\n",
    "    hex = hex.lstrip('#')\n",
    "    r,g,b = int(hex[0:2],16), int(hex[2:4],16), int(hex[4:6],16)\n",
    "    gs = int(0.21*r + 0.72*g + 0.07*b)\n",
    "    hex_gs = '#' + format(gs, '02x')*3\n",
    "    return hex_gs\n",
    "\n",
    "def get_icon_paths(folder_path):\n",
    "    paths = []\n",
    "    for file_name in os.listdir(folder_path):\n",
    "        if file_name.endswith('.svg'):\n",
    "            paths.append(os.path.join(folder_path, file_name))\n",
    "    return paths\n"
   ]
  },
  {
   "attachments": {},
   "cell_type": "markdown",
   "metadata": {},
   "source": [
    "### Function Tests"
   ]
  },
  {
   "cell_type": "code",
   "execution_count": 9,
   "metadata": {},
   "outputs": [],
   "source": [
    "# Test replace_color().\n",
    "palette_path = \"palettes/nord.yaml\"\n",
    "icon_path = \"test_icons/firefox.svg\"\n",
    "old = \"hello\"; new = \"world\""
   ]
  },
  {
   "cell_type": "code",
   "execution_count": 16,
   "metadata": {},
   "outputs": [
    {
     "name": "stdout",
     "output_type": "stream",
     "text": [
      "Nord dark mono\n",
      "['#4f4f4f', '#3d4555', '#4c566a', '#5f697d', '#737d91', '#cddff0', '#afafb1', '#ffffff']\n"
     ]
    }
   ],
   "source": [
    "# Test load_palette().\n",
    "palette = load_palette(palette_path)\n",
    "print(palette[\"name\"])\n",
    "print(palette[\"colors\"])"
   ]
  },
  {
   "cell_type": "code",
   "execution_count": 7,
   "metadata": {},
   "outputs": [
    {
     "name": "stdout",
     "output_type": "stream",
     "text": [
      "['#5f697d', '#ffffff', '#4c566a']\n"
     ]
    }
   ],
   "source": [
    "# Test get_fill_colors().\n",
    "file_path = 'test_icons/firefox.svg'\n",
    "fill_colors = get_fill_colors(file_path)\n",
    "print(fill_colors)"
   ]
  },
  {
   "cell_type": "code",
   "execution_count": 19,
   "metadata": {},
   "outputs": [
    {
     "data": {
      "text/plain": [
       "'#353535'"
      ]
     },
     "execution_count": 19,
     "metadata": {},
     "output_type": "execute_result"
    }
   ],
   "source": [
    "# Test hex_to_grayscale() and grayscale_to_hex().\n",
    "hex_color_to_grayscale(\"#FF0000\") # Red."
   ]
  },
  {
   "cell_type": "code",
   "execution_count": 20,
   "metadata": {},
   "outputs": [
    {
     "name": "stdout",
     "output_type": "stream",
     "text": [
      "['test_icons/firefox.svg', 'test_icons/obsidian.svg', 'test_icons/visual-studio-code.svg']\n"
     ]
    }
   ],
   "source": [
    "# Test get_icon_paths().\n",
    "folder_path = 'test_icons'\n",
    "svg_paths = get_icon_paths(folder_path)\n",
    "print(svg_paths)"
   ]
  },
  {
   "attachments": {},
   "cell_type": "markdown",
   "metadata": {},
   "source": [
    "### Full Tests"
   ]
  },
  {
   "cell_type": "code",
   "execution_count": 27,
   "metadata": {},
   "outputs": [],
   "source": [
    "def modify_copy(path, prefix, modification):\n",
    "    \"\"\"Open a file at the given path, then apply modifications defined\n",
    "    in a function, save a copy, prefixing its name with a string\"\"\"\n",
    "\n",
    "    with open(path, 'r') as file:\n",
    "        content = file.read()\n",
    "        content = modification(content)\n",
    "\n",
    "    with open(prefix + os.path.basename(path), 'w') as new_file:\n",
    "        new_file.write(content)"
   ]
  },
  {
   "cell_type": "code",
   "execution_count": 25,
   "metadata": {},
   "outputs": [],
   "source": [
    "def grayscale(path):\n",
    "    colors = get_fill_colors() # Rewrite (see notes).\n",
    "    for color in colors:\n",
    "        gs = hex_color_to_grayscale(color)\n",
    "        print(gs) \n",
    "\n",
    "modify_copy(\"test_icons/firefox.svg\", \"gray_\", grayscale)"
   ]
  }
 ],
 "metadata": {
  "kernelspec": {
   "display_name": "Python 3",
   "language": "python",
   "name": "python3"
  },
  "language_info": {
   "codemirror_mode": {
    "name": "ipython",
    "version": 3
   },
   "file_extension": ".py",
   "mimetype": "text/x-python",
   "name": "python",
   "nbconvert_exporter": "python",
   "pygments_lexer": "ipython3",
   "version": "3.10.12"
  },
  "orig_nbformat": 4
 },
 "nbformat": 4,
 "nbformat_minor": 2
}
