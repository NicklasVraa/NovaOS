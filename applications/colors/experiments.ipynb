{
 "cells": [
  {
   "attachments": {},
   "cell_type": "markdown",
   "metadata": {},
   "source": [
    "### Notes\n",
    "- I need to convert colors to grayscale intensities, then replace them with whatever predefined color is closest within the given palette. "
   ]
  },
  {
   "cell_type": "code",
   "execution_count": 7,
   "metadata": {},
   "outputs": [],
   "source": [
    "import xml.etree.ElementTree as ET\n",
    "import yaml\n",
    "\n",
    "def replace_color(path, old, new):\n",
    "    \"\"\"Replaces hex strings representing colors in files.\"\"\"\n",
    "    with open(path, 'r') as file:\n",
    "        content = file.read()\n",
    "\n",
    "    modified = content.replace(\"fill:\" + old, new)\n",
    "\n",
    "    with open(path, 'w') as file:\n",
    "        file.write(modified)\n",
    "\n",
    "def load_palette(path):\n",
    "    \"\"\"Load a palette.yaml file.\"\"\"\n",
    "    with open(path, 'r') as file:\n",
    "        palette = yaml.safe_load(file)\n",
    "\n",
    "    return palette\n",
    "\n",
    "def extract_fill(style):\n",
    "    \"\"\"Extract fill from style attribute within svg elements.\"\"\"\n",
    "    properties = style.split(';')\n",
    "    for prop in properties:\n",
    "        key, value = prop.split(':')\n",
    "        if key.strip() == 'fill':\n",
    "            return value.strip()\n",
    "        \n",
    "def get_fill_colors(path):\n",
    "    \"\"\"Return a list of all fill colors within an svg.\"\"\"\n",
    "    tree = ET.parse(path)\n",
    "    root = tree.getroot()\n",
    "    fill_colors = set()\n",
    "\n",
    "    # Recursive function to traverse SVG elements.\n",
    "    def traverse_elements(element):\n",
    "        if 'fill' in element.attrib:\n",
    "            fill_color = element.attrib['fill']\n",
    "            if fill_color not in fill_colors:\n",
    "                fill_colors.add(fill_color)\n",
    "\n",
    "        if 'style' in element.attrib:\n",
    "            style = element.attrib['style']\n",
    "            fill_property = extract_fill(style)\n",
    "            if fill_property and fill_property not in fill_colors:\n",
    "                fill_colors.add(fill_property)\n",
    "\n",
    "        for child in element:\n",
    "            traverse_elements(child)\n",
    "\n",
    "    traverse_elements(root)\n",
    "    return list(fill_colors)"
   ]
  },
  {
   "cell_type": "code",
   "execution_count": 9,
   "metadata": {},
   "outputs": [],
   "source": [
    "palette_path = \"palettes/nord.yaml\"\n",
    "icon_path = \"test_icons/firefox.svg\"\n",
    "old = \"hello\"; new = \"world\""
   ]
  },
  {
   "cell_type": "code",
   "execution_count": 16,
   "metadata": {},
   "outputs": [
    {
     "name": "stdout",
     "output_type": "stream",
     "text": [
      "Nord dark mono\n",
      "['#4f4f4f', '#3d4555', '#4c566a', '#5f697d', '#737d91', '#cddff0', '#afafb1', '#ffffff']\n"
     ]
    }
   ],
   "source": [
    "palette = load_palette(palette_path)\n",
    "print(palette[\"name\"])\n",
    "print(palette[\"colors\"])"
   ]
  },
  {
   "cell_type": "code",
   "execution_count": 13,
   "metadata": {},
   "outputs": [
    {
     "name": "stdout",
     "output_type": "stream",
     "text": [
      "['#4c566a', '#5f697d', '#ffffff']\n"
     ]
    }
   ],
   "source": [
    "file_path = 'test_icons/firefox.svg'\n",
    "fill_colors = get_fill_colors(file_path)\n",
    "print(fill_colors)"
   ]
  }
 ],
 "metadata": {
  "kernelspec": {
   "display_name": "Python 3",
   "language": "python",
   "name": "python3"
  },
  "language_info": {
   "codemirror_mode": {
    "name": "ipython",
    "version": 3
   },
   "file_extension": ".py",
   "mimetype": "text/x-python",
   "name": "python",
   "nbconvert_exporter": "python",
   "pygments_lexer": "ipython3",
   "version": "3.10.12"
  },
  "orig_nbformat": 4
 },
 "nbformat": 4,
 "nbformat_minor": 2
}
